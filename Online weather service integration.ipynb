{
 "cells": [
  {
   "cell_type": "code",
   "execution_count": 1,
   "id": "70e7497e",
   "metadata": {},
   "outputs": [],
   "source": [
    "dates = ['2023-09-01', '2023-09-02', '2023-09-03', '2023-09-04', '2023-09-05']\n",
    "temperature = [78, 82, 79, 85, 88]\n",
    "humidity = [60, 65, 62, 58, 57]\n",
    "precipitation = [0.0, 0.2, 0.0, 0.0, 0.0]\n",
    "\n",
    "\n",
    "weather_data = list(zip(dates, temperature, humidity, precipitation))"
   ]
  },
  {
   "cell_type": "code",
   "execution_count": 2,
   "id": "bbcdc5dd",
   "metadata": {},
   "outputs": [
    {
     "data": {
      "text/plain": [
       "[('2023-09-01', 78, 60, 0.0),\n",
       " ('2023-09-02', 82, 65, 0.2),\n",
       " ('2023-09-03', 79, 62, 0.0),\n",
       " ('2023-09-04', 85, 58, 0.0),\n",
       " ('2023-09-05', 88, 57, 0.0)]"
      ]
     },
     "execution_count": 2,
     "metadata": {},
     "output_type": "execute_result"
    }
   ],
   "source": [
    "weather_data"
   ]
  },
  {
   "cell_type": "code",
   "execution_count": 4,
   "id": "170d46eb",
   "metadata": {},
   "outputs": [
    {
     "name": "stdout",
     "output_type": "stream",
     "text": [
      "2023-09-02 82\n",
      "2023-09-04 85\n",
      "2023-09-05 88\n"
     ]
    }
   ],
   "source": [
    "for i in range(len(weather_data)):\n",
    "    if weather_data[i][1]>80:\n",
    "        print(weather_data[i][0], weather_data[i][1])"
   ]
  },
  {
   "cell_type": "code",
   "execution_count": 7,
   "id": "1bb54d15",
   "metadata": {},
   "outputs": [
    {
     "data": {
      "text/plain": [
       "['Not hot', 'Hot', 'Not hot', 'Hot', 'Hot']"
      ]
     },
     "execution_count": 7,
     "metadata": {},
     "output_type": "execute_result"
    }
   ],
   "source": [
    "weather_forecast = []\n",
    "for i in range(len(temperature)):\n",
    "    if temperature[i]>80:\n",
    "        weather_forecast.append('Hot')\n",
    "    else:\n",
    "        weather_forecast.append('Not hot')\n",
    "weather_forecast"
   ]
  },
  {
   "cell_type": "code",
   "execution_count": 9,
   "id": "55ae0133",
   "metadata": {},
   "outputs": [
    {
     "data": {
      "text/plain": [
       "{'2023-09-01': 'Not hot',\n",
       " '2023-09-02': 'Hot',\n",
       " '2023-09-03': 'Not hot',\n",
       " '2023-09-04': 'Hot',\n",
       " '2023-09-05': 'Hot'}"
      ]
     },
     "execution_count": 9,
     "metadata": {},
     "output_type": "execute_result"
    }
   ],
   "source": [
    "Dic = dict(zip(dates, weather_forecast))\n",
    "Dic"
   ]
  },
  {
   "cell_type": "code",
   "execution_count": 10,
   "id": "f3756ffe",
   "metadata": {},
   "outputs": [
    {
     "name": "stdout",
     "output_type": "stream",
     "text": [
      "Average temp:  82.4\n"
     ]
    }
   ],
   "source": [
    "print('Average temp: ',sum(temperature)/len(temperature))"
   ]
  },
  {
   "cell_type": "code",
   "execution_count": 11,
   "id": "17ac9904",
   "metadata": {},
   "outputs": [
    {
     "name": "stdout",
     "output_type": "stream",
     "text": [
      "Hello World, the current temperature is 85 C and the forecast is Hot\n"
     ]
    }
   ],
   "source": [
    "user = 'World'\n",
    "temp = 85\n",
    "weather = 'Hot'\n",
    "print(f'Hello {user}, the current temperature is {temp} C and the forecast is {weather}')"
   ]
  },
  {
   "cell_type": "code",
   "execution_count": 16,
   "id": "37f5f146",
   "metadata": {},
   "outputs": [
    {
     "name": "stdout",
     "output_type": "stream",
     "text": [
      "['unemployed', 'married', 'primary', 'no', 1787, 'no', 'no', 'cellular', 19, 'oct', 79, 1, -1, 0, 'unknown', 'no', 10]\n",
      "bank after pop: [30, 'unemployed', 'married', 'primary', 'no', 1787, 'no', 'no', 'cellular', 19, 'oct', 79, 1, -1, 0, 'unknown', 'no']\n",
      "bank after remove ['unemployed', 'married', 'primary', 'no', 1787, 'no', 'no', 'cellular', 19, 'oct', 79, 1, -1, 0, 'unknown', 'no']\n",
      "16\n",
      "after reverse ['no', 'unknown', 0, -1, 1, 79, 'oct', 19, 'cellular', 'no', 'no', 1787, 'no', 'primary', 'married', 'unemployed']\n",
      "None\n"
     ]
    }
   ],
   "source": [
    "bank = [30,\"unemployed\",\"married\",\"primary\",\"no\",1787,\"no\",\"no\",\"cellular\",19,\"oct\",79,1,-1,0,\"unknown\",\"no\"\n",
    "]\n",
    "bank.append(10)\n",
    "print(bank[1::])\n",
    "bank.pop()\n",
    "print('bank after pop:', bank)\n",
    "bank.remove(30)\n",
    "print('bank after remove', bank)\n",
    "print(len(bank))\n",
    "bank.reverse()\n",
    "print('after reverse', bank)\n",
    "bank_copy = bank.copy()\n",
    "z = bank.clear()\n",
    "print(z)"
   ]
  },
  {
   "cell_type": "code",
   "execution_count": 21,
   "id": "cc21009e",
   "metadata": {},
   "outputs": [
    {
     "data": {
      "text/plain": [
       "{'age': 30,\n",
       " 'job': 'unemployed',\n",
       " 'marital': 'married',\n",
       " 'education': 'primary',\n",
       " 'default': 'no',\n",
       " 'balance': 1787,\n",
       " 'housing': 'no',\n",
       " 'loan': 'no',\n",
       " 'contact': 'cellular',\n",
       " 'day': 19,\n",
       " 'month': 'oct',\n",
       " 'duration': 79,\n",
       " 'campaign': 1,\n",
       " 'pdays': -1,\n",
       " 'previous': 0,\n",
       " 'poutcome': 'unknown',\n",
       " 'y': 'no'}"
      ]
     },
     "execution_count": 21,
     "metadata": {},
     "output_type": "execute_result"
    }
   ],
   "source": [
    "values = [30,\"unemployed\",\"married\",\"primary\",\"no\",1787,\"no\",\"no\",\"cellular\",19,\"oct\",79,1,-1,0,\"unknown\",\"no\"\n",
    "]\n",
    "keys = [\"age\",\"job\",\"marital\",\"education\",\"default\",\"balance\",\"housing\",\"loan\",\"contact\",\"day\",\"month\",\"duration\",\"campaign\",\"pdays\",\"previous\",\"poutcome\",\"y\"\n",
    "]\n",
    "bank = dict(zip(keys, values))\n",
    "bank"
   ]
  },
  {
   "cell_type": "code",
   "execution_count": 22,
   "id": "6debdd13",
   "metadata": {},
   "outputs": [
    {
     "data": {
      "text/plain": [
       "dict_values([30, 'unemployed', 'married', 'primary', 'no', 1787, 'no', 'no', 'cellular', 19, 'oct', 79, 1, -1, 0, 'unknown', 'no'])"
      ]
     },
     "execution_count": 22,
     "metadata": {},
     "output_type": "execute_result"
    }
   ],
   "source": [
    "bank.values()"
   ]
  },
  {
   "cell_type": "code",
   "execution_count": 26,
   "id": "82d09891",
   "metadata": {},
   "outputs": [],
   "source": [
    "del bank['previous']\n"
   ]
  },
  {
   "cell_type": "code",
   "execution_count": 27,
   "id": "ddcd6873",
   "metadata": {},
   "outputs": [
    {
     "data": {
      "text/plain": [
       "{'age': 30,\n",
       " 'job': 'unemployed',\n",
       " 'marital': 'married',\n",
       " 'education': 'primary',\n",
       " 'default': 'no',\n",
       " 'balance': 1787,\n",
       " 'housing': 'no',\n",
       " 'loan': 'no',\n",
       " 'contact': 'cellular',\n",
       " 'day': 19,\n",
       " 'month': 'oct',\n",
       " 'duration': 79,\n",
       " 'campaign': 1,\n",
       " 'pdays': -1,\n",
       " 'poutcome': 'unknown',\n",
       " 'y': 'no'}"
      ]
     },
     "execution_count": 27,
     "metadata": {},
     "output_type": "execute_result"
    }
   ],
   "source": [
    "bank"
   ]
  },
  {
   "cell_type": "code",
   "execution_count": 31,
   "id": "e2e66049",
   "metadata": {},
   "outputs": [
    {
     "data": {
      "text/plain": [
       "{'age': 30,\n",
       " 'job': 'unemployed',\n",
       " 'marital': 'married',\n",
       " 'education': 'primary',\n",
       " 'default': 'no',\n",
       " 'balance': 1787,\n",
       " 'housing': 'no',\n",
       " 'loan': 'no',\n",
       " 'contact': 'cellular',\n",
       " 'day': 19,\n",
       " 'month': 'oct',\n",
       " 'duration': 79,\n",
       " 'campaign': 1,\n",
       " 'pdays': -1,\n",
       " 'poutcome': 'unknown',\n",
       " 'y': 'no',\n",
       " 'key': 'value'}"
      ]
     },
     "execution_count": 31,
     "metadata": {},
     "output_type": "execute_result"
    }
   ],
   "source": [
    "data = {'key':'value'}\n",
    "bank.update(data)\n",
    "bank"
   ]
  },
  {
   "cell_type": "code",
   "execution_count": 32,
   "id": "465bc4a7",
   "metadata": {},
   "outputs": [],
   "source": [
    "bank_copy = bank.copy()"
   ]
  },
  {
   "cell_type": "code",
   "execution_count": null,
   "id": "9e25935e",
   "metadata": {},
   "outputs": [],
   "source": []
  }
 ],
 "metadata": {
  "kernelspec": {
   "display_name": "Python 3 (ipykernel)",
   "language": "python",
   "name": "python3"
  },
  "language_info": {
   "codemirror_mode": {
    "name": "ipython",
    "version": 3
   },
   "file_extension": ".py",
   "mimetype": "text/x-python",
   "name": "python",
   "nbconvert_exporter": "python",
   "pygments_lexer": "ipython3",
   "version": "3.11.4"
  }
 },
 "nbformat": 4,
 "nbformat_minor": 5
}
