{
 "cells": [
  {
   "cell_type": "code",
   "execution_count": 1,
   "id": "79cc691a",
   "metadata": {},
   "outputs": [
    {
     "name": "stdout",
     "output_type": "stream",
     "text": [
      "id of m3 8888168\n",
      "id of m4 8888168\n"
     ]
    }
   ],
   "source": [
    "m4=100\n",
    "m3=100\n",
    "print('id of m3:', id(m3))\n",
    "print('id of m4:', id(m4))"
   ]
  },
  {
   "cell_type": "code",
   "execution_count": 3,
   "id": "f100c659",
   "metadata": {},
   "outputs": [
    {
     "name": "stdout",
     "output_type": "stream",
     "text": [
      "Enter Employeecode: 101\n"
     ]
    }
   ],
   "source": [
    "x = int(input(\"Enter Employeecode: \"))"
   ]
  },
  {
   "cell_type": "code",
   "execution_count": null,
   "id": "ec6c22e7",
   "metadata": {},
   "outputs": [],
   "source": []
  }
 ],
 "metadata": {
  "kernelspec": {
   "display_name": "Python 3 (ipykernel)",
   "language": "python",
   "name": "python3"
  },
  "language_info": {
   "codemirror_mode": {
    "name": "ipython",
    "version": 3
   },
   "file_extension": ".py",
   "mimetype": "text/x-python",
   "name": "python",
   "nbconvert_exporter": "python",
   "pygments_lexer": "ipython3",
   "version": "3.11.4"
  }
 },
 "nbformat": 4,
 "nbformat_minor": 5
}
