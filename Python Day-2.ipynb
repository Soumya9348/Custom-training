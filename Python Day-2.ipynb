{
 "cells": [
  {
   "cell_type": "code",
   "execution_count": 1,
   "id": "03f34d16",
   "metadata": {},
   "outputs": [],
   "source": [
    "import keyword"
   ]
  },
  {
   "cell_type": "code",
   "execution_count": 4,
   "id": "af27b0e8",
   "metadata": {},
   "outputs": [
    {
     "name": "stdout",
     "output_type": "stream",
     "text": [
      "35\n"
     ]
    }
   ],
   "source": [
    "z = keyword.kwlist\n",
    "print(len(z))"
   ]
  },
  {
   "cell_type": "code",
   "execution_count": 5,
   "id": "0f944b8c",
   "metadata": {},
   "outputs": [
    {
     "data": {
      "text/plain": [
       "['False',\n",
       " 'None',\n",
       " 'True',\n",
       " 'and',\n",
       " 'as',\n",
       " 'assert',\n",
       " 'async',\n",
       " 'await',\n",
       " 'break',\n",
       " 'class',\n",
       " 'continue',\n",
       " 'def',\n",
       " 'del',\n",
       " 'elif',\n",
       " 'else',\n",
       " 'except',\n",
       " 'finally',\n",
       " 'for',\n",
       " 'from',\n",
       " 'global',\n",
       " 'if',\n",
       " 'import',\n",
       " 'in',\n",
       " 'is',\n",
       " 'lambda',\n",
       " 'nonlocal',\n",
       " 'not',\n",
       " 'or',\n",
       " 'pass',\n",
       " 'raise',\n",
       " 'return',\n",
       " 'try',\n",
       " 'while',\n",
       " 'with',\n",
       " 'yield']"
      ]
     },
     "execution_count": 5,
     "metadata": {},
     "output_type": "execute_result"
    }
   ],
   "source": [
    "z"
   ]
  },
  {
   "cell_type": "code",
   "execution_count": 12,
   "id": "7293671b",
   "metadata": {},
   "outputs": [
    {
     "data": {
      "text/plain": [
       "1.35"
      ]
     },
     "execution_count": 12,
     "metadata": {},
     "output_type": "execute_result"
    }
   ],
   "source": [
    "def boyle (p1,v1,p2):\n",
    "    v2 = p1*v1/p2\n",
    "    t = p2*v2/(8.314)\n",
    "    return round(t,2)\n",
    "a = 1.4\n",
    "b = 8\n",
    "c = 6.98\n",
    "boyle(a,b,c)\n",
    "\n",
    "    "
   ]
  },
  {
   "cell_type": "code",
   "execution_count": 19,
   "id": "8a8e9973",
   "metadata": {},
   "outputs": [
    {
     "data": {
      "text/plain": [
       "1.35"
      ]
     },
     "execution_count": 19,
     "metadata": {},
     "output_type": "execute_result"
    }
   ],
   "source": [
    "def boyle (p1,v1,p2,n):\n",
    "    if p2==0 and n==0:\n",
    "        print('p2 and n cannot be zero')\n",
    "    else:\n",
    "        v2 = p1*v1/p2\n",
    "        t = p2*v2/(8.314*n)\n",
    "        return round(t,2)\n",
    "q = 1.4\n",
    "w = 8\n",
    "e = 7.608\n",
    "n=1\n",
    "boyle(q,w,e,n)"
   ]
  },
  {
   "cell_type": "code",
   "execution_count": 62,
   "id": "277d2023",
   "metadata": {},
   "outputs": [
    {
     "name": "stdout",
     "output_type": "stream",
     "text": [
      "6.113844118354582\n"
     ]
    }
   ],
   "source": [
    "\n",
    "t = lambda p1,v1,n: p1*v1/(n*8.314)\n",
    "p1 = 10.3\n",
    "v1 = 9.87\n",
    "n=2\n",
    "temp = t(p1,v1,n)\n",
    "print(temp)\n"
   ]
  },
  {
   "cell_type": "code",
   "execution_count": 28,
   "id": "f006e980",
   "metadata": {},
   "outputs": [
    {
     "name": "stdout",
     "output_type": "stream",
     "text": [
      "2023-09-19 04:29:31.200600\n"
     ]
    }
   ],
   "source": [
    "import datetime\n",
    "z = datetime.datetime.now()\n",
    "print(z)"
   ]
  },
  {
   "cell_type": "code",
   "execution_count": 46,
   "id": "02e1f762",
   "metadata": {},
   "outputs": [],
   "source": [
    "# import datetime\n",
    "# z = datetime.timezone.tzname()\n",
    "# print(z)"
   ]
  },
  {
   "cell_type": "code",
   "execution_count": 45,
   "id": "6736184d",
   "metadata": {},
   "outputs": [
    {
     "data": {
      "text/plain": [
       "'2023-09-19 04:45:08'"
      ]
     },
     "execution_count": 45,
     "metadata": {},
     "output_type": "execute_result"
    }
   ],
   "source": [
    "def current_datetime():\n",
    "    z = datetime.datetime.now()\n",
    "    s = str(z)\n",
    "    ct = s[:-7]\n",
    "    return ct\n",
    "current_datetime()"
   ]
  },
  {
   "cell_type": "code",
   "execution_count": 57,
   "id": "834e3b84",
   "metadata": {},
   "outputs": [
    {
     "name": "stdout",
     "output_type": "stream",
     "text": [
      "3280.0\n"
     ]
    }
   ],
   "source": [
    "from datetime import datetime as dt\n",
    "def elapsed_time(t1,t2, fmt= '%Y-%m-%d %H:%M:%S'):\n",
    "    \n",
    "\n",
    "    z = dt.strptime(t1, fmt)\n",
    "    x = dt.strptime(t2, fmt)\n",
    "    te = x-z\n",
    "    tes = te.total_seconds()\n",
    "    return tes\n",
    "    \n",
    "t1 = \"2023-08-22 10:00:00\"\n",
    "t2 = \"2023-08-22 10:54:40\"\n",
    "et = elapsed_time(t1,t2)\n",
    "print(et)"
   ]
  },
  {
   "cell_type": "code",
   "execution_count": 61,
   "id": "64ad5405",
   "metadata": {},
   "outputs": [
    {
     "name": "stdout",
     "output_type": "stream",
     "text": [
      "19-Sep-2023\n"
     ]
    }
   ],
   "source": [
    "now = dt.now()\n",
    "print(now.strftime('%d-%b-%Y'))"
   ]
  },
  {
   "cell_type": "markdown",
   "id": "c34e7134",
   "metadata": {},
   "source": [
    "## Types of Arguments"
   ]
  },
  {
   "cell_type": "code",
   "execution_count": 66,
   "id": "419890b5",
   "metadata": {},
   "outputs": [
    {
     "ename": "SyntaxError",
     "evalue": "non-default argument follows default argument (2654420647.py, line 2)",
     "output_type": "error",
     "traceback": [
      "\u001b[0;36m  Cell \u001b[0;32mIn[66], line 2\u001b[0;36m\u001b[0m\n\u001b[0;31m    def test(a=6,b,c):\u001b[0m\n\u001b[0m                 ^\u001b[0m\n\u001b[0;31mSyntaxError\u001b[0m\u001b[0;31m:\u001b[0m non-default argument follows default argument\n"
     ]
    }
   ],
   "source": [
    "#default arguments\n",
    "def test(a=6,b,c):\n",
    "    return a+b+c\n",
    "\n",
    "test(a,9,8)\n"
   ]
  },
  {
   "cell_type": "code",
   "execution_count": 67,
   "id": "f49cb667",
   "metadata": {},
   "outputs": [
    {
     "data": {
      "text/plain": [
       "26"
      ]
     },
     "execution_count": 67,
     "metadata": {},
     "output_type": "execute_result"
    }
   ],
   "source": [
    "def test(b,c, a=9):\n",
    "    return a+b+c\n",
    "\n",
    "test(9,8)"
   ]
  },
  {
   "cell_type": "code",
   "execution_count": 72,
   "id": "9e3b294b",
   "metadata": {},
   "outputs": [
    {
     "name": "stdout",
     "output_type": "stream",
     "text": [
      "1\n",
      "3\n",
      "5\n",
      "ghcg\n",
      "32\n",
      "45\n",
      "4\n"
     ]
    }
   ],
   "source": [
    "def fun(*nums):\n",
    "    for i in nums:\n",
    "        print(i)\n",
    "nums = 1,3,5,'ghcg',32,45,4\n",
    "fun(*nums)"
   ]
  },
  {
   "cell_type": "code",
   "execution_count": 74,
   "id": "a3812778",
   "metadata": {},
   "outputs": [
    {
     "data": {
      "text/plain": [
       "120"
      ]
     },
     "execution_count": 74,
     "metadata": {},
     "output_type": "execute_result"
    }
   ],
   "source": [
    "def fac(n):\n",
    "    if n==1 or n==0:\n",
    "        return 1\n",
    "    else:\n",
    "        return n*fac(n-1)\n",
    "fac(5)"
   ]
  },
  {
   "cell_type": "markdown",
   "id": "9450b127",
   "metadata": {},
   "source": [
    "In this scenario:\n",
    "\n",
    "\n",
    "# Sample dataset for an oil well\n",
    "oil_well = {\n",
    "    \"name\": \"Well A\",\n",
    "    \"initial_reserves\": 1000,  # Initial oil reserves in barrels\n",
    "    \"decline_rate\": 0.1,       # Annual decline rate\n",
    "}\n",
    "\n",
    "We have a sample oil well represented as a dictionary with initial reserves and an annual decline rate.\n",
    "The calculate_remaining_reserves function calculates the remaining oil reserves of the well recursively over time.\n",
    "The base case is when year is 0, where the remaining reserves are the initial reserves.\n",
    "In the recursive case, the function calculates the remaining reserves for the current year by subtracting the annual decline rate from the reserves of the previous year.\n",
    "We simulate the remaining reserves for multiple years and display the results for each year.\n",
    "\n",
    "current_reserves = calculate_remaining_reserves(year - 1, well) - well[\"decline_rate\"]"
   ]
  },
  {
   "cell_type": "code",
   "execution_count": 80,
   "id": "7cd8c2b3",
   "metadata": {},
   "outputs": [
    {
     "name": "stdout",
     "output_type": "stream",
     "text": [
      "Enter year: 6\n"
     ]
    },
    {
     "data": {
      "text/plain": [
       "999.4"
      ]
     },
     "execution_count": 80,
     "metadata": {},
     "output_type": "execute_result"
    }
   ],
   "source": [
    "\n",
    "def calculate_remaining_reserves(year):\n",
    "    oil_well = { \"name\": \"Well A\", \"initial_reserves\": 1000, \"decline_rate\": 0.1}\n",
    "    return oil_well[\"initial_reserves\"] - year* oil_well[\"decline_rate\"]\n",
    "\n",
    "x = int(input('Enter year: '))\n",
    "calculate_remaining_reserves(x)\n",
    "    "
   ]
  },
  {
   "cell_type": "code",
   "execution_count": 1,
   "id": "20e03e7b",
   "metadata": {},
   "outputs": [
    {
     "data": {
      "text/plain": [
       "999.5"
      ]
     },
     "execution_count": 1,
     "metadata": {},
     "output_type": "execute_result"
    }
   ],
   "source": [
    "def calculate_remaining_reserves(initial_value,year, deduction):\n",
    "    if year== 0:\n",
    "        return initial_value\n",
    "    else:\n",
    "        remains = initial_value - deduction\n",
    "        return round(calculate_remaining_reserves(remains, year-1, deduction),1)\n",
    "oil_well = { \"name\": \"Well A\", \"initial_reserves\": 1000, \"decline_rate\": 0.1}\n",
    "initial_value = oil_well[\"initial_reserves\"]\n",
    "year = 5\n",
    "deduction = oil_well[\"decline_rate\"]\n",
    "calculate_remaining_reserves(initial_value,year, deduction)"
   ]
  },
  {
   "cell_type": "markdown",
   "id": "a315c222",
   "metadata": {},
   "source": [
    "## Decorators"
   ]
  },
  {
   "cell_type": "code",
   "execution_count": 9,
   "id": "4f5f6b1a",
   "metadata": {},
   "outputs": [
    {
     "name": "stdout",
     "output_type": "stream",
     "text": [
      "Remaining values after 0 years: 999.5\n",
      "Remaining values after 1 years: 999.5\n",
      "Remaining values after 2 years: 999.5\n",
      "Remaining values after 3 years: 999.5\n",
      "Remaining values after 4 years: 999.5\n",
      "Remaining values after 5 years: 999.5\n"
     ]
    },
    {
     "data": {
      "text/plain": [
       "999.5"
      ]
     },
     "execution_count": 9,
     "metadata": {},
     "output_type": "execute_result"
    }
   ],
   "source": [
    "def decor(func):\n",
    "    def fun(initial_value, year, deduction):\n",
    "        result  =func(initial_value, year, deduction)\n",
    "        print(f\"Remaining values after {year} years: {result}\")\n",
    "        return result\n",
    "    return fun\n",
    "@decor\n",
    "def calculate_remaining_reserves(initial_value,year, deduction):\n",
    "    if year== 0:\n",
    "        remains = initial_value\n",
    "        return round(remains,1)\n",
    "    \n",
    "    else:\n",
    "        remains = initial_value - deduction\n",
    "        return round(calculate_remaining_reserves(remains, year-1, deduction),1)\n",
    "\n",
    "initial_value =1000\n",
    "year = 5\n",
    "deduction = 0.1\n",
    "calculate_remaining_reserves(initial_value,year, deduction)\n",
    "        "
   ]
  },
  {
   "cell_type": "code",
   "execution_count": 11,
   "id": "59b83652",
   "metadata": {},
   "outputs": [
    {
     "name": "stdout",
     "output_type": "stream",
     "text": [
      "Start\n",
      "5\n",
      "4\n",
      "3\n",
      "2\n",
      "1\n"
     ]
    }
   ],
   "source": [
    "def countdown(num):\n",
    "\n",
    "    print(\"Start\")\n",
    "    while (num>0):\n",
    "        yield num\n",
    "        num-=1\n",
    "values = countdown(5)\n",
    "for x in values:\n",
    "    print(x)"
   ]
  },
  {
   "cell_type": "markdown",
   "id": "eb8a866b",
   "metadata": {},
   "source": [
    "## Class"
   ]
  },
  {
   "cell_type": "code",
   "execution_count": 12,
   "id": "5aca0f0f",
   "metadata": {},
   "outputs": [
    {
     "name": "stdout",
     "output_type": "stream",
     "text": [
      "Shipment ID 101:\n",
      "  Product Type: Crude Oil\n",
      "  Quantity: 50\n",
      "  Distance (km): 200\n",
      "  Selected Route: Route C\n",
      "  Transportation Cost: 400.00\n",
      "========================================\n",
      "Shipment ID 102:\n",
      "  Product Type: Natural Gas\n",
      "  Quantity: 1000\n",
      "  Distance (km): 300\n"
     ]
    },
    {
     "ename": "AttributeError",
     "evalue": "'Shipment' object has no attribute 'selected_route'",
     "output_type": "error",
     "traceback": [
      "\u001b[0;31m---------------------------------------------------------------------------\u001b[0m",
      "\u001b[0;31mAttributeError\u001b[0m                            Traceback (most recent call last)",
      "Cell \u001b[0;32mIn[12], line 81\u001b[0m\n\u001b[1;32m     79\u001b[0m logistics \u001b[38;5;241m=\u001b[39m LogisticsManager(routes_data, shipments_data, centers_data)\n\u001b[1;32m     80\u001b[0m logistics\u001b[38;5;241m.\u001b[39moptimize_shipments()\n\u001b[0;32m---> 81\u001b[0m logistics\u001b[38;5;241m.\u001b[39mdisplay_shipment_schedule()\n\u001b[1;32m     85\u001b[0m \u001b[38;5;66;03m# Sample data for transportation routes\u001b[39;00m\n\u001b[1;32m     86\u001b[0m routes \u001b[38;5;241m=\u001b[39m [\n\u001b[1;32m     87\u001b[0m     {\u001b[38;5;124m\"\u001b[39m\u001b[38;5;124mroute_id\u001b[39m\u001b[38;5;124m\"\u001b[39m: \u001b[38;5;241m1\u001b[39m, \u001b[38;5;124m\"\u001b[39m\u001b[38;5;124mroute_name\u001b[39m\u001b[38;5;124m\"\u001b[39m: \u001b[38;5;124m\"\u001b[39m\u001b[38;5;124mRoute A\u001b[39m\u001b[38;5;124m\"\u001b[39m, \u001b[38;5;124m\"\u001b[39m\u001b[38;5;124mcapacity\u001b[39m\u001b[38;5;124m\"\u001b[39m: \u001b[38;5;241m100\u001b[39m, \u001b[38;5;124m\"\u001b[39m\u001b[38;5;124mcost_per_km\u001b[39m\u001b[38;5;124m\"\u001b[39m: \u001b[38;5;241m2.5\u001b[39m},\n\u001b[1;32m     88\u001b[0m     {\u001b[38;5;124m\"\u001b[39m\u001b[38;5;124mroute_id\u001b[39m\u001b[38;5;124m\"\u001b[39m: \u001b[38;5;241m2\u001b[39m, \u001b[38;5;124m\"\u001b[39m\u001b[38;5;124mroute_name\u001b[39m\u001b[38;5;124m\"\u001b[39m: \u001b[38;5;124m\"\u001b[39m\u001b[38;5;124mRoute B\u001b[39m\u001b[38;5;124m\"\u001b[39m, \u001b[38;5;124m\"\u001b[39m\u001b[38;5;124mcapacity\u001b[39m\u001b[38;5;124m\"\u001b[39m: \u001b[38;5;241m150\u001b[39m, \u001b[38;5;124m\"\u001b[39m\u001b[38;5;124mcost_per_km\u001b[39m\u001b[38;5;124m\"\u001b[39m: \u001b[38;5;241m3.0\u001b[39m},\n\u001b[1;32m     89\u001b[0m     {\u001b[38;5;124m\"\u001b[39m\u001b[38;5;124mroute_id\u001b[39m\u001b[38;5;124m\"\u001b[39m: \u001b[38;5;241m3\u001b[39m, \u001b[38;5;124m\"\u001b[39m\u001b[38;5;124mroute_name\u001b[39m\u001b[38;5;124m\"\u001b[39m: \u001b[38;5;124m\"\u001b[39m\u001b[38;5;124mRoute C\u001b[39m\u001b[38;5;124m\"\u001b[39m, \u001b[38;5;124m\"\u001b[39m\u001b[38;5;124mcapacity\u001b[39m\u001b[38;5;124m\"\u001b[39m: \u001b[38;5;241m200\u001b[39m, \u001b[38;5;124m\"\u001b[39m\u001b[38;5;124mcost_per_km\u001b[39m\u001b[38;5;124m\"\u001b[39m: \u001b[38;5;241m2.0\u001b[39m},\n\u001b[1;32m     90\u001b[0m ]\n",
      "Cell \u001b[0;32mIn[12], line 54\u001b[0m, in \u001b[0;36mLogisticsManager.display_shipment_schedule\u001b[0;34m(self)\u001b[0m\n\u001b[1;32m     52\u001b[0m \u001b[38;5;28mprint\u001b[39m(\u001b[38;5;124mf\u001b[39m\u001b[38;5;124m\"\u001b[39m\u001b[38;5;124m  Quantity: \u001b[39m\u001b[38;5;132;01m{\u001b[39;00mshipment\u001b[38;5;241m.\u001b[39mquantity\u001b[38;5;132;01m}\u001b[39;00m\u001b[38;5;124m\"\u001b[39m)\n\u001b[1;32m     53\u001b[0m \u001b[38;5;28mprint\u001b[39m(\u001b[38;5;124mf\u001b[39m\u001b[38;5;124m\"\u001b[39m\u001b[38;5;124m  Distance (km): \u001b[39m\u001b[38;5;132;01m{\u001b[39;00mshipment\u001b[38;5;241m.\u001b[39mdistance_km\u001b[38;5;132;01m}\u001b[39;00m\u001b[38;5;124m\"\u001b[39m)\n\u001b[0;32m---> 54\u001b[0m \u001b[38;5;28mprint\u001b[39m(\u001b[38;5;124mf\u001b[39m\u001b[38;5;124m\"\u001b[39m\u001b[38;5;124m  Selected Route: \u001b[39m\u001b[38;5;132;01m{\u001b[39;00mshipment\u001b[38;5;241m.\u001b[39mselected_route\u001b[38;5;241m.\u001b[39mroute_name\u001b[38;5;132;01m}\u001b[39;00m\u001b[38;5;124m\"\u001b[39m)\n\u001b[1;32m     55\u001b[0m \u001b[38;5;28mprint\u001b[39m(\u001b[38;5;124mf\u001b[39m\u001b[38;5;124m\"\u001b[39m\u001b[38;5;124m  Transportation Cost: \u001b[39m\u001b[38;5;132;01m{\u001b[39;00mshipment\u001b[38;5;241m.\u001b[39mcost\u001b[38;5;132;01m:\u001b[39;00m\u001b[38;5;124m.2f\u001b[39m\u001b[38;5;132;01m}\u001b[39;00m\u001b[38;5;124m\"\u001b[39m)\n\u001b[1;32m     56\u001b[0m \u001b[38;5;28mprint\u001b[39m(\u001b[38;5;124m\"\u001b[39m\u001b[38;5;124m=\u001b[39m\u001b[38;5;124m\"\u001b[39m \u001b[38;5;241m*\u001b[39m \u001b[38;5;241m40\u001b[39m)\n",
      "\u001b[0;31mAttributeError\u001b[0m: 'Shipment' object has no attribute 'selected_route'"
     ]
    }
   ],
   "source": [
    "class Route:\n",
    "    def __init__(self, route_id, route_name, capacity, cost_per_km):\n",
    "        self.route_id = route_id\n",
    "        self.route_name = route_name\n",
    "        self.capacity = capacity\n",
    "        self.cost_per_km = cost_per_km\n",
    "        self.capacity_available = capacity\n",
    "\n",
    "class Shipment:\n",
    "    def __init__(self, shipment_id, product_type, quantity, distance_km):\n",
    "        self.shipment_id = shipment_id\n",
    "        self.product_type = product_type\n",
    "        self.quantity = quantity\n",
    "        self.distance_km = distance_km\n",
    "        self.cost = 0  # Placeholder for calculated cost\n",
    "\n",
    "class DistributionCenter:\n",
    "    def __init__(self, center_id, center_name, location):\n",
    "        self.center_id = center_id\n",
    "        self.center_name = center_name\n",
    "        self.location = location\n",
    "\n",
    "class LogisticsManager:\n",
    "    def __init__(self, routes, shipments, distribution_centers):\n",
    "        self.routes = [Route(**r) for r in routes]\n",
    "        self.shipments = [Shipment(**s) for s in shipments]\n",
    "        self.distribution_centers = [DistributionCenter(**dc) for dc in distribution_centers]\n",
    "\n",
    "    def calculate_transport_cost(self, route, shipment):\n",
    "        cost = route.cost_per_km * shipment.distance_km\n",
    "        return cost\n",
    "\n",
    "    def check_route_availability(self, route, shipment):\n",
    "        if route.capacity_available >= shipment.quantity:\n",
    "            return True\n",
    "        else:\n",
    "            return False\n",
    "\n",
    "    def optimize_shipments(self):\n",
    "        for shipment in self.shipments:\n",
    "            for route in self.routes:\n",
    "                if self.check_route_availability(route, shipment):\n",
    "                    cost = self.calculate_transport_cost(route, shipment)\n",
    "                    if not shipment.cost or cost < shipment.cost:\n",
    "                        shipment.cost = cost\n",
    "                        shipment.selected_route = route\n",
    "\n",
    "    def display_shipment_schedule(self):\n",
    "        for shipment in self.shipments:\n",
    "            print(f\"Shipment ID {shipment.shipment_id}:\")\n",
    "            print(f\"  Product Type: {shipment.product_type}\")\n",
    "            print(f\"  Quantity: {shipment.quantity}\")\n",
    "            print(f\"  Distance (km): {shipment.distance_km}\")\n",
    "            print(f\"  Selected Route: {shipment.selected_route.route_name}\")\n",
    "            print(f\"  Transportation Cost: {shipment.cost:.2f}\")\n",
    "            print(\"=\" * 40)\n",
    "\n",
    "# Sample data\n",
    "routes_data = [\n",
    "    {\"route_id\": 1, \"route_name\": \"Route A\", \"capacity\": 100, \"cost_per_km\": 2.5},\n",
    "    {\"route_id\": 2, \"route_name\": \"Route B\", \"capacity\": 150, \"cost_per_km\": 3.0},\n",
    "    {\"route_id\": 3, \"route_name\": \"Route C\", \"capacity\": 200, \"cost_per_km\": 2.0},\n",
    "]\n",
    "\n",
    "shipments_data = [\n",
    "    {\"shipment_id\": 101, \"product_type\": \"Crude Oil\", \"quantity\": 50, \"distance_km\": 200},\n",
    "    {\"shipment_id\": 102, \"product_type\": \"Natural Gas\", \"quantity\": 1000, \"distance_km\": 300},\n",
    "    {\"shipment_id\": 103, \"product_type\": \"Crude Oil\", \"quantity\": 80, \"distance_km\": 150},\n",
    "    {\"shipment_id\": 104, \"product_type\": \"Liquefied Natural Gas (LNG)\", \"quantity\": 500, \"distance_km\": 250},\n",
    "]\n",
    "\n",
    "centers_data = [\n",
    "    {\"center_id\": 1, \"center_name\": \"Center X\", \"location\": \"City A\"},\n",
    "    {\"center_id\": 2, \"center_name\": \"Center Y\", \"location\": \"City B\"},\n",
    "    {\"center_id\": 3, \"center_name\": \"Center Z\", \"location\": \"City C\"},\n",
    "]\n",
    "\n",
    "# Create and manage logistics\n",
    "logistics = LogisticsManager(routes_data, shipments_data, centers_data)\n",
    "logistics.optimize_shipments()\n",
    "logistics.display_shipment_schedule()\n",
    "\n",
    "\n",
    "\n",
    "# Sample data for transportation routes\n",
    "routes = [\n",
    "    {\"route_id\": 1, \"route_name\": \"Route A\", \"capacity\": 100, \"cost_per_km\": 2.5},\n",
    "    {\"route_id\": 2, \"route_name\": \"Route B\", \"capacity\": 150, \"cost_per_km\": 3.0},\n",
    "    {\"route_id\": 3, \"route_name\": \"Route C\", \"capacity\": 200, \"cost_per_km\": 2.0},\n",
    "]\n",
    "\n",
    "# Sample data for product shipments\n",
    "shipments = [\n",
    "    {\"shipment_id\": 101, \"product_type\": \"Crude Oil\", \"quantity\": 50, \"distance_km\": 200},\n",
    "    {\"shipment_id\": 102, \"product_type\": \"Natural Gas\", \"quantity\": 1000, \"distance_km\": 300},\n",
    "    {\"shipment_id\": 103, \"product_type\": \"Crude Oil\", \"quantity\": 80, \"distance_km\": 150},\n",
    "    {\"shipment_id\": 104, \"product_type\": \"Liquefied Natural Gas (LNG)\", \"quantity\": 500, \"distance_km\": 250},\n",
    "]\n",
    "\n",
    "# Sample data for distribution centers\n",
    "distribution_centers = [\n",
    "    {\"center_id\": 1, \"center_name\": \"Center X\", \"location\": \"City A\"},\n",
    "    {\"center_id\": 2, \"center_name\": \"Center Y\", \"location\": \"City B\"},\n",
    "    {\"center_id\": 3, \"center_name\": \"Center Z\", \"location\": \"City C\"},\n",
    "]\n",
    "\n",
    "# Sample data for available routes and their capacities\n",
    "available_routes = [\n",
    "    {\"route_id\": 1, \"capacity_available\": 80},\n",
    "    {\"route_id\": 2, \"capacity_available\": 120},\n",
    "    {\"route_id\": 3, \"capacity_available\": 180},\n",
    "]\n",
    "\n",
    "# Sample data for logging shipment activities\n",
    "shipment_logs = []\n",
    "\n",
    "# Sample data for product scheduling (for recursive function)\n",
    "product_quantities = {\n",
    "    \"Crude Oil\": 200,\n",
    "    \"Natural Gas\": 800,\n",
    "    \"Liquefied Natural Gas (LNG)\": 300,\n",
    "}"
   ]
  },
  {
   "cell_type": "markdown",
   "id": "178756c1",
   "metadata": {},
   "source": [
    "## Assignments"
   ]
  },
  {
   "cell_type": "code",
   "execution_count": 16,
   "id": "23d06718",
   "metadata": {},
   "outputs": [
    {
     "name": "stdout",
     "output_type": "stream",
     "text": [
      "30\n"
     ]
    }
   ],
   "source": [
    "multiply = lambda x,y: x*y\n",
    "print(multiply(5,6))"
   ]
  },
  {
   "cell_type": "code",
   "execution_count": 17,
   "id": "fa17ba8f",
   "metadata": {},
   "outputs": [
    {
     "name": "stdout",
     "output_type": "stream",
     "text": [
      "HELLO\n"
     ]
    }
   ],
   "source": [
    "uppercase = lambda x: x.upper()\n",
    "print(uppercase('hello'))"
   ]
  },
  {
   "cell_type": "code",
   "execution_count": 9,
   "id": "56c2cc36",
   "metadata": {},
   "outputs": [
    {
     "name": "stdout",
     "output_type": "stream",
     "text": [
      "Enter text:{\"route_id\": 1, \"route_name\": \"Route A\", \"capacity\": 100, \"cost_per_km\": 2.5},\n",
      "Total word count: 9\n"
     ]
    }
   ],
   "source": [
    "text = input('Enter text:')\n",
    "data=''\n",
    "for i in text:\n",
    "    if i.isalnum() or i.isspace():\n",
    "        data+=i\n",
    "    else:\n",
    "        continue\n",
    "# words = map(str, data.split())\n",
    "print('Total word count:', len(data.split()))"
   ]
  },
  {
   "cell_type": "code",
   "execution_count": null,
   "id": "f52c8675",
   "metadata": {},
   "outputs": [],
   "source": []
  }
 ],
 "metadata": {
  "kernelspec": {
   "display_name": "Python 3 (ipykernel)",
   "language": "python",
   "name": "python3"
  },
  "language_info": {
   "codemirror_mode": {
    "name": "ipython",
    "version": 3
   },
   "file_extension": ".py",
   "mimetype": "text/x-python",
   "name": "python",
   "nbconvert_exporter": "python",
   "pygments_lexer": "ipython3",
   "version": "3.11.4"
  }
 },
 "nbformat": 4,
 "nbformat_minor": 5
}
